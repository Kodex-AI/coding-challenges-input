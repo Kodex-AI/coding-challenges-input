{
 "cells": [
  {
   "cell_type": "markdown",
   "metadata": {},
   "source": [
    "### Question 1\n",
    "Given 2 strings, find the starting position of string 1 inside string 2 without\n",
    "using built-in functions."
   ]
  },
  {
   "cell_type": "code",
   "execution_count": 1,
   "metadata": {},
   "outputs": [],
   "source": [
    "def findstrbeg(str1, str2):\n",
    "    a = len(str1)\n",
    "    for i in range(len(str2)):\n",
    "        if str2[i:i+a] == str1:\n",
    "            return i\n",
    "    else:\n",
    "        return -1\n",
    "    "
   ]
  },
  {
   "cell_type": "code",
   "execution_count": 2,
   "metadata": {},
   "outputs": [
    {
     "data": {
      "text/plain": [
       "4"
      ]
     },
     "execution_count": 2,
     "metadata": {},
     "output_type": "execute_result"
    }
   ],
   "source": [
    "s1 = 'abcd'\n",
    "s2 = 'fgreabcdrt'\n",
    "findstrbeg(s1, s2)\n"
   ]
  },
  {
   "cell_type": "markdown",
   "metadata": {},
   "source": [
    "### Question 2\n",
    "Given 2 lists, create a new list by taking alternate items from the lists.\n",
    "Example Input:\n",
    "A = [1,2,3,4,5]\n",
    "B = [6,7,8,9,10,11,12]\n",
    "Output:\n",
    "[1,6,2,7,3,8,4,9,5,10,11,12]"
   ]
  },
  {
   "cell_type": "code",
   "execution_count": 3,
   "metadata": {},
   "outputs": [],
   "source": [
    "def alternateLists(l1, l2):\n",
    "    out = []\n",
    "    max_l = max(len(l1), len(l2))\n",
    "    for i in range(max_l):\n",
    "        if i < len(l1):\n",
    "            out.append(l1[i])\n",
    "        if i < len(l2):\n",
    "            out.append(l2[i])\n",
    "    return out"
   ]
  },
  {
   "cell_type": "code",
   "execution_count": 4,
   "metadata": {},
   "outputs": [
    {
     "data": {
      "text/plain": [
       "[1, 6, 2, 7, 3, 8, 4, 9, 5, 10, 11, 12]"
      ]
     },
     "execution_count": 4,
     "metadata": {},
     "output_type": "execute_result"
    }
   ],
   "source": [
    "A = [1,2,3,4,5] \n",
    "B = [6,7,8,9,10,11,12]\n",
    "alternateLists(A,B)"
   ]
  },
  {
   "cell_type": "markdown",
   "metadata": {},
   "source": [
    "### Question 3\n",
    "Given a string A and a list of shorter strings B, find the longest string\n",
    "in B that can be created by removing characters from string A (without\n",
    "rearranging characters).\n",
    "Example Input:\n",
    "A = \"peanut butter jelly is the best!\"\n",
    "B = [\"bus\",\"pets\",\"bully\",\"jester\"]\n",
    "Output:\n",
    "\"bully\""
   ]
  },
  {
   "cell_type": "code",
   "execution_count": 5,
   "metadata": {},
   "outputs": [],
   "source": [
    "def findword(string, stringlist):\n",
    "    string = string.replace(' ', '')\n",
    "    stringlist = sorted(stringlist, key=len, reverse=True) # looked that up here https://www.geeksforgeeks.org/python-sort-list-according-length-elements/\n",
    "    \n",
    "    for element in stringlist:\n",
    "        _s = string\n",
    "        for letter in element:\n",
    "            f = findstrbeg(letter, _s)\n",
    "            if f == -1:\n",
    "                break\n",
    "            else:\n",
    "                _s = _s[f:]\n",
    "        if f != -1:\n",
    "            return element\n",
    "    else:\n",
    "        return ('Non element of list found')\n",
    "            \n",
    "            \n",
    "    \n",
    "    "
   ]
  },
  {
   "cell_type": "code",
   "execution_count": 6,
   "metadata": {},
   "outputs": [
    {
     "data": {
      "text/plain": [
       "'bully'"
      ]
     },
     "execution_count": 6,
     "metadata": {},
     "output_type": "execute_result"
    }
   ],
   "source": [
    "B = [\"bus\",\"pets\",\"bully\",\"jester\"]\n",
    "A = \"peanut butter jelly is the best!\"\n",
    "\n",
    "findword(A, B)"
   ]
  },
  {
   "cell_type": "markdown",
   "metadata": {},
   "source": [
    "### Question 4\n",
    "For n cities, create a randomized n × n matrix to represent the cost of\n",
    "travelling between the cities. Then find the cheapest route that starts from\n",
    "the first city, visits all other cities, and returns to the first city (a classic\n",
    "travelling salesman problem). Brute force is fine.\n",
    "Example Input:\n",
    "n = 4\n",
    "This will create a 4 × 4 matrix with random values, e.g.:\n",
    "\n",
    "\n",
    "\n",
    "\n",
    "0 0.914 0.136 0.507\n",
    "0.118 0 0.259 0.389\n",
    "0.876 0.664 0 0.734\n",
    "0.097 0.475 0.310 0\n",
    "\n",
    "\n",
    "\n",
    "\n",
    "in which entry (i, j) is the cost of going from city i to city j (indices in our\n",
    "matrix start from the top-left).\n",
    "Output:\n",
    "The cheapest route is (1,4,2,3,1) which costs 1.286"
   ]
  },
  {
   "cell_type": "code",
   "execution_count": 7,
   "metadata": {},
   "outputs": [],
   "source": [
    "import numpy as np\n",
    "import itertools\n",
    "\n",
    "# Googled for \"permutations of a list\": https://stackoverflow.com/questions/104420/how-to-generate-all-permutations-of-a-list\n",
    "\n",
    "def findcheapest(n):\n",
    "    costmatrix = np.random.rand(n,n)\n",
    "    opt_cost = 0\n",
    "    opt_path = 0\n",
    "    for i in range(n):\n",
    "        costmatrix[i,i] = 0\n",
    "        opt_cost += max(costmatrix[i,:])   \n",
    "    print(f'The randomized cost matrix for {n} cities is {costmatrix}')\n",
    "    for path in itertools.permutations([j for j in range(n)]):\n",
    "        costpath = 0\n",
    "        for i in range(len(path)):\n",
    "            if i < len(path) - 1:\n",
    "                costpath += costmatrix[path[i], path[i+1]]\n",
    "            else:\n",
    "                costpath += costmatrix[path[i], path[0]]\n",
    "        if costpath <= opt_cost:\n",
    "            opt_cost = costpath\n",
    "            opt_path = path\n",
    "            \n",
    "    opt_path_list = [i for i in opt_path] + [opt_path[0]]\n",
    "    \n",
    "    print(f'The cheapest route is {opt_path_list} and costs {opt_cost}')\n",
    "    return opt_path_list, opt_cost\n",
    "            \n",
    "        \n",
    "        \n",
    "        \n",
    "    \n",
    "    #for i in range(n):\n",
    "        \n",
    "    \n",
    "    "
   ]
  },
  {
   "cell_type": "code",
   "execution_count": 8,
   "metadata": {},
   "outputs": [
    {
     "name": "stdout",
     "output_type": "stream",
     "text": [
      "The randomized cost matrix for 3 cities is [[0.         0.72326795 0.79120534]\n",
      " [0.42858682 0.         0.05661045]\n",
      " [0.4623114  0.10383089 0.        ]]\n",
      "The cheapest route is [2, 0, 1, 2] and costs 1.242189799764338\n"
     ]
    },
    {
     "data": {
      "text/plain": [
       "([2, 0, 1, 2], 1.242189799764338)"
      ]
     },
     "execution_count": 8,
     "metadata": {},
     "output_type": "execute_result"
    }
   ],
   "source": [
    "findcheapest(3)"
   ]
  },
  {
   "cell_type": "markdown",
   "metadata": {},
   "source": [
    "### Question 5\n",
    "If you get this far, good job, you’ve already done very well. This one is\n",
    "pretty difficult. Create a program that verifies if a number is a Carmichael\n",
    "Number, that is, a number n that is not prime, but satisfies the relationship:\n",
    "b\n",
    "n ≡ b (mod n)\n",
    "for all integers b which are coprime1 with n.\n",
    "Hint: The first Carmichael Number is 561.\n",
    "Hint 2: b\n",
    "n mod n will cause errors for most n, as b\n",
    "n gets huge, fast. Instead\n",
    "perform the operation by repeating b × b mod n a total of n times."
   ]
  },
  {
   "cell_type": "code",
   "execution_count": 27,
   "metadata": {},
   "outputs": [],
   "source": [
    "# checked wikipedia: https://de.wikipedia.org/wiki/Carmichael-Zahl\n",
    "# Implement Korselts Theorem\n",
    "\n",
    "def carmichael(c):\n",
    "    _c = c\n",
    "    primelist = []\n",
    "    carm = True\n",
    "    for i in range(2,c):\n",
    "        while _c/i%1 == 0:\n",
    "            primelist.append(i)\n",
    "            _c = _c/i\n",
    "            if _c == 1:\n",
    "                break\n",
    "    for p in set(primelist):\n",
    "        if (c/p-1)/(p-1)%1 == 0:\n",
    "            pass\n",
    "        else:\n",
    "            print(f'{c} is not Carmichael')\n",
    "            carm = False\n",
    "            break\n",
    "    if carm:        \n",
    "        print(f'{c} is Carmichael')\n",
    "    \n",
    "    \n",
    "    "
   ]
  },
  {
   "cell_type": "code",
   "execution_count": 28,
   "metadata": {},
   "outputs": [
    {
     "name": "stdout",
     "output_type": "stream",
     "text": [
      "11\n",
      "17\n",
      "3\n",
      "561 is Carmichael\n"
     ]
    }
   ],
   "source": [
    "carmichael(561)"
   ]
  },
  {
   "cell_type": "code",
   "execution_count": null,
   "metadata": {},
   "outputs": [],
   "source": []
  }
 ],
 "metadata": {
  "kernelspec": {
   "display_name": "Python 3 (ipykernel)",
   "language": "python",
   "name": "python3"
  },
  "language_info": {
   "codemirror_mode": {
    "name": "ipython",
    "version": 3
   },
   "file_extension": ".py",
   "mimetype": "text/x-python",
   "name": "python",
   "nbconvert_exporter": "python",
   "pygments_lexer": "ipython3",
   "version": "3.10.0"
  }
 },
 "nbformat": 4,
 "nbformat_minor": 4
}

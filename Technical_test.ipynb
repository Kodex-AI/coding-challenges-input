{
 "cells": [
  {
   "cell_type": "markdown",
   "metadata": {
    "id": "vWg3YaK_Imzv"
   },
   "source": [
    "### Python TASK (15min)###\n",
    "Write a function which accepts two strings - Main String and Fetch String and returns a result as True or False.\n",
    "\n",
    "The function tries to find any possible anagram of fetch string in the main string\n",
    "\n",
    "#### Example\n",
    "all anagrams of 'abc': 'abc', 'acb', 'bac', 'bca', 'cab', 'cba'\n",
    "\n",
    "\n",
    "No external libraries and packages are allowed to be used. \n",
    "#### For example \n",
    "*  if the main string is 'ihavelivedthebestlife' and the fetch string is 'bees' then the function should return True\n",
    "* if in the above example the fetch string is 'hide' then the function should return False\n",
    "* if in the above example the fetch string is 'devil' then the function should return True"
   ]
  },
  {
   "cell_type": "code",
   "execution_count": null,
   "metadata": {
    "id": "mdjjEWl7IojP"
   },
   "outputs": [],
   "source": [
    "# 'ihavelivedthebestlife' main_s \n",
    "# 'bees' fetch_s\n",
    "#please write your function here\n",
    "\n",
    "def anagram(main_s, fetch_s):\n",
    "  pass\n",
    "                         "
   ]
  },
  {
   "cell_type": "code",
   "execution_count": null,
   "metadata": {
    "id": "aerrFmwMFxfF"
   },
   "outputs": [],
   "source": [
    "#please test the result here\n",
    "anagram('ihavelivedthebestlife', 'bees')"
   ]
  },
  {
   "cell_type": "code",
   "execution_count": null,
   "metadata": {
    "id": "wRVMc7KGkshX"
   },
   "outputs": [],
   "source": [
    "anagram('ihavelivedthebestlife', 'hide')"
   ]
  },
  {
   "cell_type": "code",
   "execution_count": null,
   "metadata": {
    "id": "jb4cM8yTktnF"
   },
   "outputs": [],
   "source": [
    "anagram('ihavelivedthebestlife', 'devil')"
   ]
  },
  {
   "cell_type": "code",
   "execution_count": null,
   "metadata": {
    "id": "myYfmpaorybd"
   },
   "outputs": [],
   "source": []
  },
  {
   "cell_type": "markdown",
   "metadata": {
    "id": "uV-TZpciOHy7"
   },
   "source": [
    "### SQL TASK (15min) ###\n",
    "Please work on this task on your SQL editor: Postgresql, sql server etc.\n",
    "Or online SQL editor: https://sqliteonline.com/\n",
    "\n",
    "Given are the following tables: \n",
    " \n",
    "* Hackers: The hacker_id is the id of the hacker, and name is the name of the \n",
    "hacker.\n",
    "* Challenges: The challenge_id is the id of the challenge, and hacker_id is the id of the hacker who created the challenge.\n",
    " \n",
    "Write a query to print the hacker_id, name, and the total number of challenges created by each hacker. \n",
    "* Sort your results by the total number of challenges in descending order. If more than one student created the same number of challenges, then sort the result by hacker_id. \n",
    "* If more than one student created the same number of challenges and the count is less than the maximum number of challenges created, then exclude those students from the result.\n",
    "\n",
    "### Query To Create The Table ###\n",
    "Please copy it to your SQL editor. \n",
    "\n",
    "```\n",
    "CREATE TABLE hackers(\n",
    "\thacker_id int,\n",
    "\thacker_name VARCHAR(50),\n",
    "  \tprimary key(hacker_id)\n",
    ");\n",
    "\n",
    "INSERT INTO hackers\n",
    "VALUES (12299,'Rose'),\n",
    "(34856,'Angela'),\n",
    "(79345,'Frank'),\n",
    "(80491,'Patrick'),\n",
    "(81041,'Lisa'),\n",
    "(111,'Sam'),\n",
    "(222,'Jam');\n",
    "\n",
    "CREATE TABLE challenges(\n",
    "\tchallenge_id INT,\n",
    "  \thacker_id int,\n",
    "  \tPrimary key(challenge_id),\n",
    "  \tconstraint fk_hackers foreign key(hacker_id) \n",
    "  \t\treferences hackers(hacker_id)\n",
    ");\n",
    "\n",
    "INSERT INTO challenges\n",
    "VALUES (63963, 81041),\n",
    "(63117, 79345),\n",
    "(28225, 34856),\n",
    "(21989, 12299),\n",
    "(4653, 12299),\n",
    "(70070, 79345),\n",
    "(36905, 34856),\n",
    "(61136, 80491),\n",
    "(17234, 12299),\n",
    "(80308, 79345),\n",
    "(40510, 34856),\n",
    "(79820, 80491),\n",
    "(22720, 12299),\n",
    "(21394, 12299),\n",
    "(36261, 34856),\n",
    "(15334, 12299),\n",
    "(71435, 79345),\n",
    "(23157, 34856),\n",
    "(54102, 34856),\n",
    "(69065, 80491),\n",
    "(222,111),\n",
    "(223,111),\n",
    "(333,222),\n",
    "(334,222)\n",
    "\n",
    "```\n",
    "\n"
   ]
  },
  {
   "cell_type": "code",
   "execution_count": null,
   "metadata": {
    "id": "6ey4arnSOIdR"
   },
   "outputs": [],
   "source": []
  }
 ],
 "metadata": {
  "colab": {
   "collapsed_sections": [],
   "name": "new_Technical_test.ipynb",
   "provenance": [
    {
     "file_id": "1OBimv5eqV7E6JnoKvRV3qytmZRicUkkq",
     "timestamp": 1637150269058
    },
    {
     "file_id": "1DDGYFkUHXfvJkGIqNGkUM7TaV70fwutU",
     "timestamp": 1636021250398
    }
   ]
  },
  "kernelspec": {
   "display_name": "Python 3 (ipykernel)",
   "language": "python",
   "name": "python3"
  },
  "language_info": {
   "codemirror_mode": {
    "name": "ipython",
    "version": 3
   },
   "file_extension": ".py",
   "mimetype": "text/x-python",
   "name": "python",
   "nbconvert_exporter": "python",
   "pygments_lexer": "ipython3",
   "version": "3.10.0"
  }
 },
 "nbformat": 4,
 "nbformat_minor": 1
}
